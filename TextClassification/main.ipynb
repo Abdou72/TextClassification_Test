{
 "cells": [
  {
   "cell_type": "code",
   "execution_count": 1,
   "metadata": {},
   "outputs": [
    {
     "name": "stderr",
     "output_type": "stream",
     "text": [
      "Using TensorFlow backend.\n"
     ]
    }
   ],
   "source": [
    "from preprocessor import TextPreProcessor\n",
    "from data_loader import load_pickle_data, load_config_preprocess, data_splits, \\\n",
    "target_encoder, embeddings_matrix\n",
    "from utils import texts2sequences, padding_sequences, concatenate_columns\n",
    "from models import BLSTM_model\n",
    "from keras.layers import LSTM\n",
    "import sys\n",
    "from keras.callbacks import Callback, ModelCheckpoint\n",
    "from keras.callbacks import ModelCheckpoint\n",
    "import matplotlib.pyplot as plt"
   ]
  },
  {
   "cell_type": "code",
   "execution_count": 2,
   "metadata": {},
   "outputs": [
    {
     "name": "stdout",
     "output_type": "stream",
     "text": [
      "\n",
      "\tData Preprocessing ...\n"
     ]
    }
   ],
   "source": [
    "print(\"\\n\\tData Preprocessing ...\")\n",
    "\n",
    "# Load data and config file\n",
    "config = load_config_preprocess('config.json')\n",
    "#  Parameters\n",
    "data_path = config['files']['data']\n",
    "w2v_path  = config['files']['word2vec']\n",
    "embedding_dim  = config['model_nn']['embedding_dim']\n",
    "epochs =  config['model_nn']['epochs']\n",
    "size =  config['model_nn']['size']\n",
    "cells_rnn =  config['model_nn']['cells_rnn']\n",
    "\n",
    "data = load_pickle_data(data_path)\n",
    "data= concatenate_columns(data)"
   ]
  },
  {
   "cell_type": "code",
   "execution_count": 3,
   "metadata": {},
   "outputs": [],
   "source": [
    "data = load_pickle_data(data_path)\n",
    "data= concatenate_columns(data)"
   ]
  },
  {
   "cell_type": "code",
   "execution_count": 4,
   "metadata": {},
   "outputs": [],
   "source": [
    "# Text processing to filter the noise from the raw text:\n",
    "#     - All words are lowercase. E-mails, URLs and user handles are normalized,\n",
    "#     - Remove common, uninformative words that don't add meaning to the sentence,\n",
    "#     - etc.\n",
    "\n",
    "text_processor = TextPreProcessor (\n",
    "\n",
    "\t    normalize=['hashtag','user','email', 'phone', 'url','date','time'], \n",
    "\t\tdecode = True,\n",
    "\t\tremove = ['stop_list','punctuation','number'],\n",
    "\t\tconfig_preprocess = config\n",
    "\n",
    "\t)\n",
    "data['text'] = text_processor.preprocessing_docs(data['text'])"
   ]
  },
  {
   "cell_type": "code",
   "execution_count": 8,
   "metadata": {},
   "outputs": [],
   "source": [
    "# Label one hot encoder\n",
    "y, num_classes = target_encoder(data['thematique'])\n",
    "\n",
    "# Split data into Train, Test \n",
    "x_train, x_valid, y_train, y_valid= data_splits(pad_sequences,y)"
   ]
  },
  {
   "cell_type": "code",
   "execution_count": 9,
   "metadata": {},
   "outputs": [],
   "source": [
    "# Prepares the sequence to be used as input for the neural network model.\n",
    "X, word_index, nb_words = texts2sequences(data['text'])\n",
    "pad_sequences, maxlen = padding_sequences(X)"
   ]
  },
  {
   "cell_type": "code",
   "execution_count": 10,
   "metadata": {},
   "outputs": [
    {
     "ename": "TypeError",
     "evalue": "'numpy.ndarray' object is not callable",
     "output_type": "error",
     "traceback": [
      "\u001b[0;31m---------------------------------------------------------------------------\u001b[0m",
      "\u001b[0;31mTypeError\u001b[0m                                 Traceback (most recent call last)",
      "\u001b[0;32m<ipython-input-10-7b625cc33b22>\u001b[0m in \u001b[0;36m<module>\u001b[0;34m\u001b[0m\n\u001b[1;32m      1\u001b[0m \u001b[0;31m# word2vec Matrix\u001b[0m\u001b[0;34m\u001b[0m\u001b[0;34m\u001b[0m\u001b[0;34m\u001b[0m\u001b[0m\n\u001b[0;32m----> 2\u001b[0;31m \u001b[0membeddings_matrix\u001b[0m \u001b[0;34m=\u001b[0m \u001b[0membeddings_matrix\u001b[0m\u001b[0;34m(\u001b[0m\u001b[0mw2v_path\u001b[0m\u001b[0;34m,\u001b[0m\u001b[0membedding_dim\u001b[0m\u001b[0;34m,\u001b[0m\u001b[0mword_index\u001b[0m\u001b[0;34m,\u001b[0m\u001b[0mnb_words\u001b[0m\u001b[0;34m)\u001b[0m\u001b[0;34m\u001b[0m\u001b[0;34m\u001b[0m\u001b[0m\n\u001b[0m",
      "\u001b[0;31mTypeError\u001b[0m: 'numpy.ndarray' object is not callable"
     ]
    }
   ],
   "source": [
    "# word2vec Matrix\n",
    "embeddings_matrix = embeddings_matrix(w2v_path,embedding_dim,word_index,nb_words)"
   ]
  },
  {
   "cell_type": "code",
   "execution_count": 11,
   "metadata": {},
   "outputs": [
    {
     "name": "stdout",
     "output_type": "stream",
     "text": [
      "\n",
      "\tBuilding Neuronal Network Model...\n",
      "WARNING:tensorflow:From /home/abdou/anaconda3/envs/nlp/lib/python3.7/site-packages/tensorflow/python/framework/op_def_library.py:263: colocate_with (from tensorflow.python.framework.ops) is deprecated and will be removed in a future version.\n",
      "Instructions for updating:\n",
      "Colocations handled automatically by placer.\n",
      "WARNING:tensorflow:From /home/abdou/anaconda3/envs/nlp/lib/python3.7/site-packages/keras/backend/tensorflow_backend.py:3445: calling dropout (from tensorflow.python.ops.nn_ops) with keep_prob is deprecated and will be removed in a future version.\n",
      "Instructions for updating:\n",
      "Please use `rate` instead of `keep_prob`. Rate should be set to `rate = 1 - keep_prob`.\n",
      "_________________________________________________________________\n",
      "Layer (type)                 Output Shape              Param #   \n",
      "=================================================================\n",
      "embedding_layer (Embedding)  (None, 217, 200)          12895200  \n",
      "_________________________________________________________________\n",
      "bidirectional_1 (Bidirection (None, 217, 320)          462080    \n",
      "_________________________________________________________________\n",
      "dropout_1 (Dropout)          (None, 217, 320)          0         \n",
      "_________________________________________________________________\n",
      "bidirectional_2 (Bidirection (None, 320)               615680    \n",
      "_________________________________________________________________\n",
      "dropout_2 (Dropout)          (None, 320)               0         \n",
      "_________________________________________________________________\n",
      "dense_1 (Dense)              (None, 9)                 2889      \n",
      "_________________________________________________________________\n",
      "activation_1 (Activation)    (None, 9)                 0         \n",
      "=================================================================\n",
      "Total params: 13,975,849\n",
      "Trainable params: 1,080,649\n",
      "Non-trainable params: 12,895,200\n",
      "_________________________________________________________________\n"
     ]
    }
   ],
   "source": [
    "# Building Neuronal Network Model\n",
    "print(\"\\n\\tBuilding Neuronal Network Model...\")\n",
    "model = BLSTM_model(embeddings_matrix, num_classes=num_classes, vocab_size=nb_words,\n",
    "                                input_length=maxlen, layers=2, unit=LSTM, embedding_dim=200,\n",
    "                                cells=cells_rnn, bidirectional=True, lr=0.001, loss_l2=0.000,\n",
    "                                dropout_final=0.3, dropout_words=0.3, dropout_rnn=0.3)\n",
    "\n",
    "\n"
   ]
  },
  {
   "cell_type": "code",
   "execution_count": null,
   "metadata": {},
   "outputs": [],
   "source": [
    "# Save best model\n",
    "filepath=\"Acc-{epoch:02d}.hdf5\"\n",
    "checkpoint = ModelCheckpoint(filepath, monitor='val_acc', verbose=1, save_best_only=True, mode='max')\n",
    "callbacks_list = [checkpoint]\n",
    "\n",
    "print(\"\\n\\tTrainning ...\")\n",
    "history = model.fit(x_train, y_train,\n",
    "                       validation_data=(x_valid,y_valid),\n",
    "                       epochs=epochs, batch_size=size, callbacks=[checkpoint])\n"
   ]
  },
  {
   "cell_type": "code",
   "execution_count": null,
   "metadata": {},
   "outputs": [],
   "source": [
    "# Plot learning curve \n",
    "plt.plot(history.history['acc'])\n",
    "plt.plot(history.history['val_acc'])\n",
    "plt.title('model accuracy')\n",
    "plt.ylabel('accuracy')\n",
    "plt.xlabel('epoch')\n",
    "plt.legend(['train', 'test'], loc='upper left')\n",
    "plt.show()\n"
   ]
  }
 ],
 "metadata": {
  "kernelspec": {
   "display_name": "Python 3",
   "language": "python",
   "name": "python3"
  },
  "language_info": {
   "codemirror_mode": {
    "name": "ipython",
    "version": 3
   },
   "file_extension": ".py",
   "mimetype": "text/x-python",
   "name": "python",
   "nbconvert_exporter": "python",
   "pygments_lexer": "ipython3",
   "version": "3.7.3"
  }
 },
 "nbformat": 4,
 "nbformat_minor": 2
}
