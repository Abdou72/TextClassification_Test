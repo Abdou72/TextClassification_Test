{
 "cells": [
  {
   "cell_type": "code",
   "execution_count": 8,
   "metadata": {},
   "outputs": [],
   "source": [
    "from preprocessor import TextPreProcessor\n",
    "import json\n",
    "import re\n"
   ]
  },
  {
   "cell_type": "code",
   "execution_count": 9,
   "metadata": {},
   "outputs": [],
   "source": [
    "text_processor = TextPreProcessor (\n",
    "\t#normalize=['url', 'email', 'percent', 'money', 'phone', 'user',\n",
    "    #    'time', 'url', 'date', 'number'],\n",
    "    normalize=['hashtag','user','email', 'phone'],\n",
    "\tdecode = True\n",
    "\t)\n",
    "sentence = \"TWEET FROM: abde@yahoo.fr 0671692613 #DIGITECH2016 Le digital geraldine@hotmail.com va coÃ»ter 200 Mâ‚¬ Ã  la Maif sur la pÃ©riode 2015-2018 (SI, Internet, mobile,...) + 125 Mâ‚¬ pour le fonds Maif Avenir\"\n",
    "print(text_processor.preprocessing(sentence))"
   ]
  },
  {
   "cell_type": "code",
   "execution_count": null,
   "metadata": {},
   "outputs": [],
   "source": []
  },
  {
   "cell_type": "code",
   "execution_count": null,
   "metadata": {},
   "outputs": [],
   "source": []
  },
  {
   "cell_type": "code",
   "execution_count": null,
   "metadata": {},
   "outputs": [],
   "source": []
  },
  {
   "cell_type": "code",
   "execution_count": null,
   "metadata": {},
   "outputs": [],
   "source": []
  },
  {
   "cell_type": "code",
   "execution_count": null,
   "metadata": {},
   "outputs": [],
   "source": []
  },
  {
   "cell_type": "code",
   "execution_count": null,
   "metadata": {},
   "outputs": [],
   "source": []
  }
 ],
 "metadata": {
  "kernelspec": {
   "display_name": "Python 3",
   "language": "python",
   "name": "python3"
  },
  "language_info": {
   "codemirror_mode": {
    "name": "ipython",
    "version": 3
   },
   "file_extension": ".py",
   "mimetype": "text/x-python",
   "name": "python",
   "nbconvert_exporter": "python",
   "pygments_lexer": "ipython3",
   "version": "3.7.3"
  }
 },
 "nbformat": 4,
 "nbformat_minor": 2
}
